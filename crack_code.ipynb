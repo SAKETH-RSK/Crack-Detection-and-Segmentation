{
  "cells": [
    {
      "cell_type": "code",
      "execution_count": null,
      "metadata": {
        "colab": {
          "base_uri": "https://localhost:8080/"
        },
        "id": "xUFUigpAGstH",
        "outputId": "556a650e-96b9-4e18-c7cf-885422aa6382"
      },
      "outputs": [
        {
          "name": "stdout",
          "output_type": "stream",
          "text": [
            "Mounted at /content/drive\n"
          ]
        }
      ],
      "source": [
        "from google.colab import drive\n",
        "drive.mount('/content/drive')"
      ]
    },
    {
      "cell_type": "code",
      "execution_count": 4,
      "metadata": {
        "colab": {
          "base_uri": "https://localhost:8080/"
        },
        "id": "YBxlYy77G2AD",
        "outputId": "286f8851-9f10-4fe1-ac66-37e68d7b7172"
      },
      "outputs": [
        {
          "name": "stdout",
          "output_type": "stream",
          "text": [
            "/content\n"
          ]
        }
      ],
      "source": [
        "import os\n",
        "HOME = os.getcwd()\n",
        "print(HOME)"
      ]
    },
    {
      "cell_type": "code",
      "execution_count": null,
      "metadata": {
        "colab": {
          "base_uri": "https://localhost:8080/"
        },
        "id": "r5h0SeiBHBwS",
        "outputId": "a8cc80ad-8caf-4e8b-d3e0-0db9fd32e08c"
      },
      "outputs": [
        {
          "name": "stdout",
          "output_type": "stream",
          "text": [
            "/content/yolov7/seg\n",
            "Requirement already satisfied: pip in /usr/local/lib/python3.10/dist-packages (24.1.2)\n",
            "Collecting pip\n",
            "  Using cached pip-24.2-py3-none-any.whl.metadata (3.6 kB)\n",
            "Using cached pip-24.2-py3-none-any.whl (1.8 MB)\n",
            "Installing collected packages: pip\n",
            "  Attempting uninstall: pip\n",
            "    Found existing installation: pip 24.1.2\n",
            "    Uninstalling pip-24.1.2:\n",
            "      Successfully uninstalled pip-24.1.2\n",
            "Successfully installed pip-24.2\n",
            "Requirement already satisfied: matplotlib>=3.2.2 in /usr/local/lib/python3.10/dist-packages (from -r requirements.txt (line 5)) (3.7.1)\n",
            "Requirement already satisfied: numpy>=1.18.5 in /usr/local/lib/python3.10/dist-packages (from -r requirements.txt (line 6)) (1.26.4)\n",
            "Requirement already satisfied: opencv-python>=4.1.1 in /usr/local/lib/python3.10/dist-packages (from -r requirements.txt (line 7)) (4.10.0.84)\n",
            "Requirement already satisfied: Pillow>=7.1.2 in /usr/local/lib/python3.10/dist-packages (from -r requirements.txt (line 8)) (10.4.0)\n",
            "Requirement already satisfied: PyYAML>=5.3.1 in /usr/local/lib/python3.10/dist-packages (from -r requirements.txt (line 9)) (6.0.2)\n",
            "Requirement already satisfied: requests>=2.23.0 in /usr/local/lib/python3.10/dist-packages (from -r requirements.txt (line 10)) (2.32.3)\n",
            "Requirement already satisfied: scipy>=1.4.1 in /usr/local/lib/python3.10/dist-packages (from -r requirements.txt (line 11)) (1.13.1)\n",
            "Requirement already satisfied: torch>=1.7.0 in /usr/local/lib/python3.10/dist-packages (from -r requirements.txt (line 12)) (2.4.1+cu121)\n",
            "Requirement already satisfied: torchvision>=0.8.1 in /usr/local/lib/python3.10/dist-packages (from -r requirements.txt (line 13)) (0.19.1+cu121)\n",
            "Requirement already satisfied: tqdm>=4.64.0 in /usr/local/lib/python3.10/dist-packages (from -r requirements.txt (line 14)) (4.66.5)\n",
            "Requirement already satisfied: protobuf<=3.20.3 in /usr/local/lib/python3.10/dist-packages (from -r requirements.txt (line 15)) (3.20.3)\n",
            "Requirement already satisfied: tensorboard>=2.4.1 in /usr/local/lib/python3.10/dist-packages (from -r requirements.txt (line 18)) (2.17.0)\n",
            "Requirement already satisfied: pandas>=1.1.4 in /usr/local/lib/python3.10/dist-packages (from -r requirements.txt (line 23)) (2.1.4)\n",
            "Requirement already satisfied: seaborn>=0.11.0 in /usr/local/lib/python3.10/dist-packages (from -r requirements.txt (line 24)) (0.13.1)\n",
            "Requirement already satisfied: ipython in /usr/local/lib/python3.10/dist-packages (from -r requirements.txt (line 38)) (7.34.0)\n",
            "Requirement already satisfied: psutil in /usr/local/lib/python3.10/dist-packages (from -r requirements.txt (line 39)) (5.9.5)\n",
            "Collecting thop>=0.1.1 (from -r requirements.txt (line 40))\n",
            "  Downloading thop-0.1.1.post2209072238-py3-none-any.whl.metadata (2.7 kB)\n",
            "Requirement already satisfied: contourpy>=1.0.1 in /usr/local/lib/python3.10/dist-packages (from matplotlib>=3.2.2->-r requirements.txt (line 5)) (1.3.0)\n",
            "Requirement already satisfied: cycler>=0.10 in /usr/local/lib/python3.10/dist-packages (from matplotlib>=3.2.2->-r requirements.txt (line 5)) (0.12.1)\n",
            "Requirement already satisfied: fonttools>=4.22.0 in /usr/local/lib/python3.10/dist-packages (from matplotlib>=3.2.2->-r requirements.txt (line 5)) (4.53.1)\n",
            "Requirement already satisfied: kiwisolver>=1.0.1 in /usr/local/lib/python3.10/dist-packages (from matplotlib>=3.2.2->-r requirements.txt (line 5)) (1.4.7)\n",
            "Requirement already satisfied: packaging>=20.0 in /usr/local/lib/python3.10/dist-packages (from matplotlib>=3.2.2->-r requirements.txt (line 5)) (24.1)\n",
            "Requirement already satisfied: pyparsing>=2.3.1 in /usr/local/lib/python3.10/dist-packages (from matplotlib>=3.2.2->-r requirements.txt (line 5)) (3.1.4)\n",
            "Requirement already satisfied: python-dateutil>=2.7 in /usr/local/lib/python3.10/dist-packages (from matplotlib>=3.2.2->-r requirements.txt (line 5)) (2.8.2)\n",
            "Requirement already satisfied: charset-normalizer<4,>=2 in /usr/local/lib/python3.10/dist-packages (from requests>=2.23.0->-r requirements.txt (line 10)) (3.3.2)\n",
            "Requirement already satisfied: idna<4,>=2.5 in /usr/local/lib/python3.10/dist-packages (from requests>=2.23.0->-r requirements.txt (line 10)) (3.10)\n",
            "Requirement already satisfied: urllib3<3,>=1.21.1 in /usr/local/lib/python3.10/dist-packages (from requests>=2.23.0->-r requirements.txt (line 10)) (2.2.3)\n",
            "Requirement already satisfied: certifi>=2017.4.17 in /usr/local/lib/python3.10/dist-packages (from requests>=2.23.0->-r requirements.txt (line 10)) (2024.8.30)\n",
            "Requirement already satisfied: filelock in /usr/local/lib/python3.10/dist-packages (from torch>=1.7.0->-r requirements.txt (line 12)) (3.16.1)\n",
            "Requirement already satisfied: typing-extensions>=4.8.0 in /usr/local/lib/python3.10/dist-packages (from torch>=1.7.0->-r requirements.txt (line 12)) (4.12.2)\n",
            "Requirement already satisfied: sympy in /usr/local/lib/python3.10/dist-packages (from torch>=1.7.0->-r requirements.txt (line 12)) (1.13.3)\n",
            "Requirement already satisfied: networkx in /usr/local/lib/python3.10/dist-packages (from torch>=1.7.0->-r requirements.txt (line 12)) (3.3)\n",
            "Requirement already satisfied: jinja2 in /usr/local/lib/python3.10/dist-packages (from torch>=1.7.0->-r requirements.txt (line 12)) (3.1.4)\n",
            "Requirement already satisfied: fsspec in /usr/local/lib/python3.10/dist-packages (from torch>=1.7.0->-r requirements.txt (line 12)) (2024.6.1)\n",
            "Requirement already satisfied: absl-py>=0.4 in /usr/local/lib/python3.10/dist-packages (from tensorboard>=2.4.1->-r requirements.txt (line 18)) (1.4.0)\n",
            "Requirement already satisfied: grpcio>=1.48.2 in /usr/local/lib/python3.10/dist-packages (from tensorboard>=2.4.1->-r requirements.txt (line 18)) (1.64.1)\n",
            "Requirement already satisfied: markdown>=2.6.8 in /usr/local/lib/python3.10/dist-packages (from tensorboard>=2.4.1->-r requirements.txt (line 18)) (3.7)\n",
            "Requirement already satisfied: setuptools>=41.0.0 in /usr/local/lib/python3.10/dist-packages (from tensorboard>=2.4.1->-r requirements.txt (line 18)) (71.0.4)\n",
            "Requirement already satisfied: six>1.9 in /usr/local/lib/python3.10/dist-packages (from tensorboard>=2.4.1->-r requirements.txt (line 18)) (1.16.0)\n",
            "Requirement already satisfied: tensorboard-data-server<0.8.0,>=0.7.0 in /usr/local/lib/python3.10/dist-packages (from tensorboard>=2.4.1->-r requirements.txt (line 18)) (0.7.2)\n",
            "Requirement already satisfied: werkzeug>=1.0.1 in /usr/local/lib/python3.10/dist-packages (from tensorboard>=2.4.1->-r requirements.txt (line 18)) (3.0.4)\n",
            "Requirement already satisfied: pytz>=2020.1 in /usr/local/lib/python3.10/dist-packages (from pandas>=1.1.4->-r requirements.txt (line 23)) (2024.2)\n",
            "Requirement already satisfied: tzdata>=2022.1 in /usr/local/lib/python3.10/dist-packages (from pandas>=1.1.4->-r requirements.txt (line 23)) (2024.1)\n",
            "Collecting jedi>=0.16 (from ipython->-r requirements.txt (line 38))\n",
            "  Using cached jedi-0.19.1-py2.py3-none-any.whl.metadata (22 kB)\n",
            "Requirement already satisfied: decorator in /usr/local/lib/python3.10/dist-packages (from ipython->-r requirements.txt (line 38)) (4.4.2)\n",
            "Requirement already satisfied: pickleshare in /usr/local/lib/python3.10/dist-packages (from ipython->-r requirements.txt (line 38)) (0.7.5)\n",
            "Requirement already satisfied: traitlets>=4.2 in /usr/local/lib/python3.10/dist-packages (from ipython->-r requirements.txt (line 38)) (5.7.1)\n",
            "Requirement already satisfied: prompt-toolkit!=3.0.0,!=3.0.1,<3.1.0,>=2.0.0 in /usr/local/lib/python3.10/dist-packages (from ipython->-r requirements.txt (line 38)) (3.0.47)\n",
            "Requirement already satisfied: pygments in /usr/local/lib/python3.10/dist-packages (from ipython->-r requirements.txt (line 38)) (2.18.0)\n",
            "Requirement already satisfied: backcall in /usr/local/lib/python3.10/dist-packages (from ipython->-r requirements.txt (line 38)) (0.2.0)\n",
            "Requirement already satisfied: matplotlib-inline in /usr/local/lib/python3.10/dist-packages (from ipython->-r requirements.txt (line 38)) (0.1.7)\n",
            "Requirement already satisfied: pexpect>4.3 in /usr/local/lib/python3.10/dist-packages (from ipython->-r requirements.txt (line 38)) (4.9.0)\n",
            "Requirement already satisfied: parso<0.9.0,>=0.8.3 in /usr/local/lib/python3.10/dist-packages (from jedi>=0.16->ipython->-r requirements.txt (line 38)) (0.8.4)\n",
            "Requirement already satisfied: ptyprocess>=0.5 in /usr/local/lib/python3.10/dist-packages (from pexpect>4.3->ipython->-r requirements.txt (line 38)) (0.7.0)\n",
            "Requirement already satisfied: wcwidth in /usr/local/lib/python3.10/dist-packages (from prompt-toolkit!=3.0.0,!=3.0.1,<3.1.0,>=2.0.0->ipython->-r requirements.txt (line 38)) (0.2.13)\n",
            "Requirement already satisfied: MarkupSafe>=2.1.1 in /usr/local/lib/python3.10/dist-packages (from werkzeug>=1.0.1->tensorboard>=2.4.1->-r requirements.txt (line 18)) (2.1.5)\n",
            "Requirement already satisfied: mpmath<1.4,>=1.1.0 in /usr/local/lib/python3.10/dist-packages (from sympy->torch>=1.7.0->-r requirements.txt (line 12)) (1.3.0)\n",
            "Downloading thop-0.1.1.post2209072238-py3-none-any.whl (15 kB)\n",
            "Using cached jedi-0.19.1-py2.py3-none-any.whl (1.6 MB)\n",
            "Installing collected packages: jedi, thop\n",
            "Successfully installed jedi-0.19.1 thop-0.1.1.post2209072238\n"
          ]
        }
      ],
      "source": [
        "%cd {HOME}/yolov7/seg\n",
        "!pip install --upgrade pip\n",
        "!pip install -r requirements.txt"
      ]
    },
    {
      "cell_type": "code",
      "execution_count": null,
      "metadata": {
        "colab": {
          "base_uri": "https://localhost:8080/"
        },
        "id": "PmbhjSVZIpC_",
        "outputId": "6aa48564-e6b3-4a55-9cf5-1553e55e0a43"
      },
      "outputs": [
        {
          "name": "stdout",
          "output_type": "stream",
          "text": [
            "Enter YOUR_API_KEY secret value: ··········\n"
          ]
        }
      ],
      "source": [
        "from getpass import getpass\n",
        "\n",
        "# copy your API KEY from\n",
        "api_key = getpass('Enter YOUR_API_KEY secret value: ')"
      ]
    },
    {
      "cell_type": "markdown",
      "metadata": {
        "id": "-XQTd7F48cHL"
      },
      "source": []
    },
    {
      "cell_type": "code",
      "execution_count": null,
      "metadata": {
        "colab": {
          "base_uri": "https://localhost:8080/"
        },
        "id": "I79oxcufIs4P",
        "outputId": "c7a2cb86-349c-42a9-e4de-adde3ccd3deb"
      },
      "outputs": [
        {
          "name": "stdout",
          "output_type": "stream",
          "text": [
            "/content/yolov7/seg\n",
            "loading Roboflow workspace...\n",
            "loading Roboflow project...\n"
          ]
        },
        {
          "name": "stderr",
          "output_type": "stream",
          "text": [
            "Downloading Dataset Version Zip in crack-2 to yolov7pytorch:: 100%|██████████| 138823/138823 [00:03<00:00, 44505.23it/s]"
          ]
        },
        {
          "name": "stdout",
          "output_type": "stream",
          "text": [
            "\n"
          ]
        },
        {
          "name": "stderr",
          "output_type": "stream",
          "text": [
            "\n",
            "Extracting Dataset Version Zip to crack-2 in yolov7pytorch:: 100%|██████████| 8070/8070 [00:01<00:00, 6225.27it/s]\n"
          ]
        }
      ],
      "source": [
        "%cd {HOME}/yolov7/seg\n",
        "\n",
        "!pip install roboflow --quiet\n",
        "\n",
        "from roboflow import Roboflow\n",
        "\n",
        "rf = Roboflow(api_key=api_key)\n",
        "project = rf.workspace(\"university-bswxt\").project(\"crack-bphdr\")\n",
        "dataset = project.version(2).download(\"yolov7\")"
      ]
    },
    {
      "cell_type": "code",
      "execution_count": null,
      "metadata": {
        "colab": {
          "base_uri": "https://localhost:8080/"
        },
        "id": "w6pxiyTeIy1-",
        "outputId": "f5c6f6c7-7897-43c6-f203-bed386706c90"
      },
      "outputs": [
        {
          "name": "stdout",
          "output_type": "stream",
          "text": [
            "/content/yolov7/seg\n",
            "2024-09-24 17:40:46.715430: E external/local_xla/xla/stream_executor/cuda/cuda_fft.cc:485] Unable to register cuFFT factory: Attempting to register factory for plugin cuFFT when one has already been registered\n",
            "2024-09-24 17:40:46.756791: E external/local_xla/xla/stream_executor/cuda/cuda_dnn.cc:8454] Unable to register cuDNN factory: Attempting to register factory for plugin cuDNN when one has already been registered\n",
            "2024-09-24 17:40:46.766853: E external/local_xla/xla/stream_executor/cuda/cuda_blas.cc:1452] Unable to register cuBLAS factory: Attempting to register factory for plugin cuBLAS when one has already been registered\n",
            "2024-09-24 17:40:46.790369: I tensorflow/core/platform/cpu_feature_guard.cc:210] This TensorFlow binary is optimized to use available CPU instructions in performance-critical operations.\n",
            "To enable the following instructions: AVX2 FMA, in other operations, rebuild TensorFlow with the appropriate compiler flags.\n",
            "2024-09-24 17:40:48.071436: W tensorflow/compiler/tf2tensorrt/utils/py_utils.cc:38] TF-TRT Warning: Could not find TensorRT\n",
            "\u001b[34m\u001b[1msegment/train: \u001b[0mweights=/content/yolov7/seg/yolov7-seg.pt, cfg=, data=/content/yolov7/seg/crack-2/data.yaml, hyp=data/hyps/hyp.scratch-low.yaml, epochs=10, batch_size=16, imgsz=640, rect=False, resume=False, nosave=False, noval=False, noautoanchor=False, noplots=False, evolve=None, bucket=, cache=None, image_weights=False, device=0, multi_scale=False, single_cls=False, optimizer=SGD, sync_bn=False, workers=8, project=runs/train-seg, name=custom, exist_ok=False, quad=False, cos_lr=False, label_smoothing=0.0, patience=100, freeze=[0], save_period=-1, seed=0, local_rank=-1, mask_ratio=4, no_overlap=False\n",
            "YOLOv5 🚀 2024-9-24 Python-3.10.12 torch-2.4.1+cu121 CUDA:0 (Tesla T4, 15102MiB)\n",
            "\n",
            "\u001b[34m\u001b[1mhyperparameters: \u001b[0mlr0=0.01, lrf=0.01, momentum=0.937, weight_decay=0.0005, warmup_epochs=3.0, warmup_momentum=0.8, warmup_bias_lr=0.1, box=0.05, cls=0.5, cls_pw=1.0, obj=1.0, obj_pw=1.0, iou_t=0.2, anchor_t=4.0, fl_gamma=0.0, hsv_h=0.015, hsv_s=0.7, hsv_v=0.4, degrees=0.0, translate=0.1, scale=0.5, shear=0.0, perspective=0.0, flipud=0.0, fliplr=0.5, mosaic=1.0, mixup=0.0, copy_paste=0.0\n",
            "\u001b[34m\u001b[1mTensorBoard: \u001b[0mStart with 'tensorboard --logdir runs/train-seg', view at http://localhost:6006/\n",
            "/content/yolov7/seg/segment/train.py:126: FutureWarning: You are using `torch.load` with `weights_only=False` (the current default value), which uses the default pickle module implicitly. It is possible to construct malicious pickle data which will execute arbitrary code during unpickling (See https://github.com/pytorch/pytorch/blob/main/SECURITY.md#untrusted-models for more details). In a future release, the default value for `weights_only` will be flipped to `True`. This limits the functions that could be executed during unpickling. Arbitrary objects will no longer be allowed to be loaded via this mode unless they are explicitly allowlisted by the user via `torch.serialization.add_safe_globals`. We recommend you start setting `weights_only=True` for any use case where you don't have full control of the loaded file. Please open an issue on GitHub for any issues related to this experimental feature.\n",
            "  ckpt = torch.load(weights, map_location='cpu')  # load checkpoint to CPU to avoid CUDA memory leak\n",
            "Overriding model.yaml nc=80 with nc=1\n",
            "\n",
            "                 from  n    params  module                                  arguments                     \n",
            "  0                -1  1       928  models.common.Conv                      [3, 32, 3, 1]                 \n",
            "  1                -1  1     18560  models.common.Conv                      [32, 64, 3, 2]                \n",
            "  2                -1  1     36992  models.common.Conv                      [64, 64, 3, 1]                \n",
            "  3                -1  1     73984  models.common.Conv                      [64, 128, 3, 2]               \n",
            "  4                -1  1      8320  models.common.Conv                      [128, 64, 1, 1]               \n",
            "  5                -2  1      8320  models.common.Conv                      [128, 64, 1, 1]               \n",
            "  6                -1  1     36992  models.common.Conv                      [64, 64, 3, 1]                \n",
            "  7                -1  1     36992  models.common.Conv                      [64, 64, 3, 1]                \n",
            "  8                -1  1     36992  models.common.Conv                      [64, 64, 3, 1]                \n",
            "  9                -1  1     36992  models.common.Conv                      [64, 64, 3, 1]                \n",
            " 10  [-1, -3, -5, -6]  1         0  models.common.Concat                    [1]                           \n",
            " 11                -1  1     66048  models.common.Conv                      [256, 256, 1, 1]              \n",
            " 12                -1  1         0  models.common.MP                        []                            \n",
            " 13                -1  1     33024  models.common.Conv                      [256, 128, 1, 1]              \n",
            " 14                -3  1     33024  models.common.Conv                      [256, 128, 1, 1]              \n",
            " 15                -1  1    147712  models.common.Conv                      [128, 128, 3, 2]              \n",
            " 16          [-1, -3]  1         0  models.common.Concat                    [1]                           \n",
            " 17                -1  1     33024  models.common.Conv                      [256, 128, 1, 1]              \n",
            " 18                -2  1     33024  models.common.Conv                      [256, 128, 1, 1]              \n",
            " 19                -1  1    147712  models.common.Conv                      [128, 128, 3, 1]              \n",
            " 20                -1  1    147712  models.common.Conv                      [128, 128, 3, 1]              \n",
            " 21                -1  1    147712  models.common.Conv                      [128, 128, 3, 1]              \n",
            " 22                -1  1    147712  models.common.Conv                      [128, 128, 3, 1]              \n",
            " 23  [-1, -3, -5, -6]  1         0  models.common.Concat                    [1]                           \n",
            " 24                -1  1    263168  models.common.Conv                      [512, 512, 1, 1]              \n",
            " 25                -1  1         0  models.common.MP                        []                            \n",
            " 26                -1  1    131584  models.common.Conv                      [512, 256, 1, 1]              \n",
            " 27                -3  1    131584  models.common.Conv                      [512, 256, 1, 1]              \n",
            " 28                -1  1    590336  models.common.Conv                      [256, 256, 3, 2]              \n",
            " 29          [-1, -3]  1         0  models.common.Concat                    [1]                           \n",
            " 30                -1  1    131584  models.common.Conv                      [512, 256, 1, 1]              \n",
            " 31                -2  1    131584  models.common.Conv                      [512, 256, 1, 1]              \n",
            " 32                -1  1    590336  models.common.Conv                      [256, 256, 3, 1]              \n",
            " 33                -1  1    590336  models.common.Conv                      [256, 256, 3, 1]              \n",
            " 34                -1  1    590336  models.common.Conv                      [256, 256, 3, 1]              \n",
            " 35                -1  1    590336  models.common.Conv                      [256, 256, 3, 1]              \n",
            " 36  [-1, -3, -5, -6]  1         0  models.common.Concat                    [1]                           \n",
            " 37                -1  1   1050624  models.common.Conv                      [1024, 1024, 1, 1]            \n",
            " 38                -1  1         0  models.common.MP                        []                            \n",
            " 39                -1  1    525312  models.common.Conv                      [1024, 512, 1, 1]             \n",
            " 40                -3  1    525312  models.common.Conv                      [1024, 512, 1, 1]             \n",
            " 41                -1  1   2360320  models.common.Conv                      [512, 512, 3, 2]              \n",
            " 42          [-1, -3]  1         0  models.common.Concat                    [1]                           \n",
            " 43                -1  1    262656  models.common.Conv                      [1024, 256, 1, 1]             \n",
            " 44                -2  1    262656  models.common.Conv                      [1024, 256, 1, 1]             \n",
            " 45                -1  1    590336  models.common.Conv                      [256, 256, 3, 1]              \n",
            " 46                -1  1    590336  models.common.Conv                      [256, 256, 3, 1]              \n",
            " 47                -1  1    590336  models.common.Conv                      [256, 256, 3, 1]              \n",
            " 48                -1  1    590336  models.common.Conv                      [256, 256, 3, 1]              \n",
            " 49  [-1, -3, -5, -6]  1         0  models.common.Concat                    [1]                           \n",
            " 50                -1  1   1050624  models.common.Conv                      [1024, 1024, 1, 1]            \n",
            " 51                -1  1   7609344  models.common.SPPCSPC                   [1024, 512, 1]                \n",
            " 52                -1  1    131584  models.common.Conv                      [512, 256, 1, 1]              \n",
            " 53                -1  1         0  torch.nn.modules.upsampling.Upsample    [None, 2, 'nearest']          \n",
            " 54                37  1    262656  models.common.Conv                      [1024, 256, 1, 1]             \n",
            " 55          [-1, -2]  1         0  models.common.Concat                    [1]                           \n",
            " 56                -1  1    131584  models.common.Conv                      [512, 256, 1, 1]              \n",
            " 57                -2  1    131584  models.common.Conv                      [512, 256, 1, 1]              \n",
            " 58                -1  1    295168  models.common.Conv                      [256, 128, 3, 1]              \n",
            " 59                -1  1    147712  models.common.Conv                      [128, 128, 3, 1]              \n",
            " 60                -1  1    147712  models.common.Conv                      [128, 128, 3, 1]              \n",
            " 61                -1  1    147712  models.common.Conv                      [128, 128, 3, 1]              \n",
            " 62[-1, -2, -3, -4, -5, -6]  1         0  models.common.Concat                    [1]                           \n",
            " 63                -1  1    262656  models.common.Conv                      [1024, 256, 1, 1]             \n",
            " 64                -1  1     33024  models.common.Conv                      [256, 128, 1, 1]              \n",
            " 65                -1  1         0  torch.nn.modules.upsampling.Upsample    [None, 2, 'nearest']          \n",
            " 66                24  1     65792  models.common.Conv                      [512, 128, 1, 1]              \n",
            " 67          [-1, -2]  1         0  models.common.Concat                    [1]                           \n",
            " 68                -1  1     33024  models.common.Conv                      [256, 128, 1, 1]              \n",
            " 69                -2  1     33024  models.common.Conv                      [256, 128, 1, 1]              \n",
            " 70                -1  1     73856  models.common.Conv                      [128, 64, 3, 1]               \n",
            " 71                -1  1     36992  models.common.Conv                      [64, 64, 3, 1]                \n",
            " 72                -1  1     36992  models.common.Conv                      [64, 64, 3, 1]                \n",
            " 73                -1  1     36992  models.common.Conv                      [64, 64, 3, 1]                \n",
            " 74[-1, -2, -3, -4, -5, -6]  1         0  models.common.Concat                    [1]                           \n",
            " 75                -1  1     65792  models.common.Conv                      [512, 128, 1, 1]              \n",
            " 76                -1  1         0  models.common.MP                        []                            \n",
            " 77                -1  1     16640  models.common.Conv                      [128, 128, 1, 1]              \n",
            " 78                -3  1     16640  models.common.Conv                      [128, 128, 1, 1]              \n",
            " 79                -1  1    147712  models.common.Conv                      [128, 128, 3, 2]              \n",
            " 80      [-1, -3, 63]  1         0  models.common.Concat                    [1]                           \n",
            " 81                -1  1    131584  models.common.Conv                      [512, 256, 1, 1]              \n",
            " 82                -2  1    131584  models.common.Conv                      [512, 256, 1, 1]              \n",
            " 83                -1  1    295168  models.common.Conv                      [256, 128, 3, 1]              \n",
            " 84                -1  1    147712  models.common.Conv                      [128, 128, 3, 1]              \n",
            " 85                -1  1    147712  models.common.Conv                      [128, 128, 3, 1]              \n",
            " 86                -1  1    147712  models.common.Conv                      [128, 128, 3, 1]              \n",
            " 87[-1, -2, -3, -4, -5, -6]  1         0  models.common.Concat                    [1]                           \n",
            " 88                -1  1    262656  models.common.Conv                      [1024, 256, 1, 1]             \n",
            " 89                -1  1         0  models.common.MP                        []                            \n",
            " 90                -1  1     66048  models.common.Conv                      [256, 256, 1, 1]              \n",
            " 91                -3  1     66048  models.common.Conv                      [256, 256, 1, 1]              \n",
            " 92                -1  1    590336  models.common.Conv                      [256, 256, 3, 2]              \n",
            " 93      [-1, -3, 51]  1         0  models.common.Concat                    [1]                           \n",
            " 94                -1  1    525312  models.common.Conv                      [1024, 512, 1, 1]             \n",
            " 95                -2  1    525312  models.common.Conv                      [1024, 512, 1, 1]             \n",
            " 96                -1  1   1180160  models.common.Conv                      [512, 256, 3, 1]              \n",
            " 97                -1  1    590336  models.common.Conv                      [256, 256, 3, 1]              \n",
            " 98                -1  1    590336  models.common.Conv                      [256, 256, 3, 1]              \n",
            " 99                -1  1    590336  models.common.Conv                      [256, 256, 3, 1]              \n",
            "100[-1, -2, -3, -4, -5, -6]  1         0  models.common.Concat                    [1]                           \n",
            "101                -1  1   1049600  models.common.Conv                      [2048, 512, 1, 1]             \n",
            "102                75  1    295424  models.common.Conv                      [128, 256, 3, 1]              \n",
            "103                88  1   1180672  models.common.Conv                      [256, 512, 3, 1]              \n",
            "104               101  1   4720640  models.common.Conv                      [512, 1024, 3, 1]             \n",
            "105   [102, 103, 104]  1   1395404  models.yolo.ISegment                    [1, [[12, 16, 19, 36, 40, 28], [36, 75, 76, 55, 72, 146], [142, 110, 192, 243, 459, 401]], 32, 256, [256, 512, 1024]]\n",
            "Model summary: 417 layers, 37866092 parameters, 37866092 gradients, 142.6 GFLOPs\n",
            "\n",
            "Transferred 556/565 items from /content/yolov7/seg/yolov7-seg.pt\n",
            "/content/yolov7/seg/models/common.py:709: FutureWarning: `torch.cuda.amp.autocast(args...)` is deprecated. Please use `torch.amp.autocast('cuda', args...)` instead.\n",
            "  with amp.autocast(autocast):\n",
            "\u001b[34m\u001b[1mAMP: \u001b[0mchecks passed ✅\n",
            "\u001b[34m\u001b[1moptimizer:\u001b[0m SGD(lr=0.01) with parameter groups 98 weight(decay=0.0), 95 weight(decay=0.0005), 95 bias\n",
            "/usr/local/lib/python3.10/dist-packages/albumentations/__init__.py:13: UserWarning: A new version of Albumentations is available: 1.4.16 (you have 1.4.15). Upgrade using: pip install -U albumentations. To disable automatic update checks, set the environment variable NO_ALBUMENTATIONS_UPDATE to 1.\n",
            "  check_for_updates()\n",
            "/usr/local/lib/python3.10/dist-packages/albumentations/core/composition.py:191: UserWarning: Got processor for bboxes, but no transform to process it.\n",
            "  self._set_keys()\n",
            "\u001b[34m\u001b[1malbumentations: \u001b[0mBlur(p=0.01, blur_limit=(3, 7)), MedianBlur(p=0.01, blur_limit=(3, 7)), ToGray(p=0.01, num_output_channels=3, method='weighted_average'), CLAHE(p=0.01, clip_limit=(1, 4.0), tile_grid_size=(8, 8))\n",
            "\u001b[34m\u001b[1mtrain: \u001b[0mScanning '/content/yolov7/seg/crack-2/train/labels.cache' images and labels... 3717 found, 0 missing, 0 empty, 0 corrupt: 100% 3717/3717 [00:00<?, ?it/s]\n",
            "\u001b[34m\u001b[1mval: \u001b[0mScanning '/content/yolov7/seg/crack-2/valid/labels' images and labels...200 found, 0 missing, 1 empty, 0 corrupt: 100% 200/200 [00:00<00:00, 423.78it/s]\n",
            "\u001b[34m\u001b[1mval: \u001b[0mNew cache created: /content/yolov7/seg/crack-2/valid/labels.cache\n",
            "\n",
            "\u001b[34m\u001b[1mAutoAnchor: \u001b[0m2.27 anchors/target, 0.941 Best Possible Recall (BPR). Anchors are a poor fit to dataset ⚠️, attempting to improve...\n",
            "\u001b[34m\u001b[1mAutoAnchor: \u001b[0mWARNING: Extremely small objects found: 1 of 4893 labels are < 3 pixels in size\n",
            "\u001b[34m\u001b[1mAutoAnchor: \u001b[0mRunning kmeans for 9 anchors on 4893 points...\n",
            "\u001b[34m\u001b[1mAutoAnchor: \u001b[0mEvolving anchors with Genetic Algorithm: fitness = 0.7294: 100% 1000/1000 [00:01<00:00, 568.85it/s]\n",
            "\u001b[34m\u001b[1mAutoAnchor: \u001b[0mthr=0.25: 0.9884 best possible recall, 3.37 anchors past thr\n",
            "\u001b[34m\u001b[1mAutoAnchor: \u001b[0mn=9, img_size=640, metric_all=0.264/0.731-mean/best, past_thr=0.506-mean: 45,30, 34,137, 238,52, 70,590, 617,74, 132,606, 603,155, 224,604, 527,447\n",
            "\u001b[34m\u001b[1mAutoAnchor: \u001b[0mDone ✅ (optional: update model *.yaml to use these anchors in the future)\n",
            "Plotting labels to runs/train-seg/custom5/labels.jpg... \n",
            "/content/yolov7/seg/segment/train.py:264: FutureWarning: `torch.cuda.amp.GradScaler(args...)` is deprecated. Please use `torch.amp.GradScaler('cuda', args...)` instead.\n",
            "  scaler = torch.cuda.amp.GradScaler(enabled=amp)\n",
            "Image sizes 640 train, 640 val\n",
            "Using 2 dataloader workers\n",
            "Logging results to \u001b[1mruns/train-seg/custom5\u001b[0m\n",
            "Starting training for 10 epochs...\n",
            "\n",
            "      Epoch    GPU_mem   box_loss   seg_loss   obj_loss   cls_loss  Instances       Size\n",
            "  0% 0/233 [00:00<?, ?it/s]/content/yolov7/seg/segment/train.py:320: FutureWarning: `torch.cuda.amp.autocast(args...)` is deprecated. Please use `torch.amp.autocast('cuda', args...)` instead.\n",
            "  with torch.cuda.amp.autocast(amp):\n",
            "        0/9      13.4G     0.1078     0.1314    0.02994          0         51        640:   0% 1/233 [00:02<08:05,  2.09s/it]Exception in thread Thread-8 (plot_images_and_masks):\n",
            "Traceback (most recent call last):\n",
            "  File \"/usr/lib/python3.10/threading.py\", line 1016, in _bootstrap_inner\n",
            "    self.run()\n",
            "  File \"/usr/lib/python3.10/threading.py\", line 953, in run\n",
            "    self._target(*self._args, **self._kwargs)\n",
            "  File \"/content/yolov7/seg/./utils/segment/plots.py\", line 119, in plot_images_and_masks\n",
            "    annotator.box_label(box, label, color=color)\n",
            "  File \"/content/yolov7/seg/./utils/plots.py\", line 90, in box_label\n",
            "    w, h = self.font.getsize(label)  # text width, height\n",
            "AttributeError: 'FreeTypeFont' object has no attribute 'getsize'\n",
            "        0/9      13.4G     0.1096     0.1277    0.02938          0         41        640:   1% 2/233 [00:03<06:33,  1.70s/it]Exception in thread Thread-9 (plot_images_and_masks):\n",
            "Traceback (most recent call last):\n",
            "  File \"/usr/lib/python3.10/threading.py\", line 1016, in _bootstrap_inner\n",
            "    self.run()\n",
            "  File \"/usr/lib/python3.10/threading.py\", line 953, in run\n",
            "    self._target(*self._args, **self._kwargs)\n",
            "  File \"/content/yolov7/seg/./utils/segment/plots.py\", line 119, in plot_images_and_masks\n",
            "    annotator.box_label(box, label, color=color)\n",
            "  File \"/content/yolov7/seg/./utils/plots.py\", line 90, in box_label\n",
            "    w, h = self.font.getsize(label)  # text width, height\n",
            "AttributeError: 'FreeTypeFont' object has no attribute 'getsize'\n",
            "        0/9      13.4G       0.11      0.125    0.02835          0         38        640:   1% 3/233 [00:05<06:29,  1.69s/it]Exception in thread Thread-10 (plot_images_and_masks):\n",
            "Traceback (most recent call last):\n",
            "  File \"/usr/lib/python3.10/threading.py\", line 1016, in _bootstrap_inner\n",
            "    self.run()\n",
            "  File \"/usr/lib/python3.10/threading.py\", line 953, in run\n",
            "    self._target(*self._args, **self._kwargs)\n",
            "  File \"/content/yolov7/seg/./utils/segment/plots.py\", line 119, in plot_images_and_masks\n",
            "    annotator.box_label(box, label, color=color)\n",
            "  File \"/content/yolov7/seg/./utils/plots.py\", line 90, in box_label\n",
            "    w, h = self.font.getsize(label)  # text width, height\n",
            "AttributeError: 'FreeTypeFont' object has no attribute 'getsize'\n",
            "        0/9      13.5G    0.07076    0.04234    0.02514          0         15        640: 100% 233/233 [04:36<00:00,  1.19s/it]\n",
            "                 Class     Images  Instances      Box(P          R      mAP50  mAP50-95)     Mask(P          R      mAP50  mAP50-95): 100% 7/7 [00:07<00:00,  1.12s/it]\n",
            "                   all        200        249      0.754      0.462      0.593      0.298      0.579      0.409      0.377      0.107\n",
            "\n",
            "      Epoch    GPU_mem   box_loss   seg_loss   obj_loss   cls_loss  Instances       Size\n",
            "        1/9        13G    0.04802    0.02448    0.01788          0         18        640: 100% 233/233 [04:34<00:00,  1.18s/it]\n",
            "                 Class     Images  Instances      Box(P          R      mAP50  mAP50-95)     Mask(P          R      mAP50  mAP50-95): 100% 7/7 [00:07<00:00,  1.02s/it]\n",
            "                   all        200        249      0.711      0.627      0.645      0.314      0.551      0.479      0.384      0.107\n",
            "\n",
            "      Epoch    GPU_mem   box_loss   seg_loss   obj_loss   cls_loss  Instances       Size\n",
            "        2/9        13G    0.04546    0.02392     0.0146          0         10        640: 100% 233/233 [04:33<00:00,  1.17s/it]\n",
            "                 Class     Images  Instances      Box(P          R      mAP50  mAP50-95)     Mask(P          R      mAP50  mAP50-95): 100% 7/7 [00:06<00:00,  1.09it/s]\n",
            "                   all        200        249      0.628       0.57      0.566      0.307      0.441      0.402      0.289     0.0741\n",
            "\n",
            "      Epoch    GPU_mem   box_loss   seg_loss   obj_loss   cls_loss  Instances       Size\n",
            "        3/9        13G    0.04027    0.02332    0.01342          0          9        640: 100% 233/233 [04:32<00:00,  1.17s/it]\n",
            "                 Class     Images  Instances      Box(P          R      mAP50  mAP50-95)     Mask(P          R      mAP50  mAP50-95): 100% 7/7 [00:05<00:00,  1.19it/s]\n",
            "                   all        200        249      0.719      0.655      0.684       0.34      0.595      0.538       0.48       0.13\n",
            "\n",
            "      Epoch    GPU_mem   box_loss   seg_loss   obj_loss   cls_loss  Instances       Size\n",
            "        4/9        13G    0.03682    0.02324    0.01272          0          9        640: 100% 233/233 [04:31<00:00,  1.17s/it]\n",
            "                 Class     Images  Instances      Box(P          R      mAP50  mAP50-95)     Mask(P          R      mAP50  mAP50-95): 100% 7/7 [00:06<00:00,  1.02it/s]\n",
            "                   all        200        249      0.818      0.598      0.684      0.353      0.659      0.544      0.517      0.147\n",
            "\n",
            "      Epoch    GPU_mem   box_loss   seg_loss   obj_loss   cls_loss  Instances       Size\n",
            "        5/9      14.4G    0.03267    0.02315    0.01256          0         12        640: 100% 233/233 [04:30<00:00,  1.16s/it]\n",
            "                 Class     Images  Instances      Box(P          R      mAP50  mAP50-95)     Mask(P          R      mAP50  mAP50-95): 100% 7/7 [00:06<00:00,  1.01it/s]\n",
            "                   all        200        249      0.725      0.719       0.72      0.393      0.547      0.558      0.438      0.118\n",
            "\n",
            "      Epoch    GPU_mem   box_loss   seg_loss   obj_loss   cls_loss  Instances       Size\n",
            "        6/9      14.4G    0.02926    0.02206    0.01205          0         13        640: 100% 233/233 [04:36<00:00,  1.18s/it]\n",
            "                 Class     Images  Instances      Box(P          R      mAP50  mAP50-95)     Mask(P          R      mAP50  mAP50-95): 100% 7/7 [00:06<00:00,  1.11it/s]\n",
            "                   all        200        249      0.793      0.747       0.78      0.456      0.673      0.635      0.567      0.173\n",
            "\n",
            "      Epoch    GPU_mem   box_loss   seg_loss   obj_loss   cls_loss  Instances       Size\n",
            "        7/9      14.4G    0.02615    0.02226    0.01133          0         16        640: 100% 233/233 [04:41<00:00,  1.21s/it]\n",
            "                 Class     Images  Instances      Box(P          R      mAP50  mAP50-95)     Mask(P          R      mAP50  mAP50-95): 100% 7/7 [00:06<00:00,  1.12it/s]\n",
            "                   all        200        249      0.787      0.743       0.79      0.535      0.673      0.635      0.604      0.206\n",
            "\n",
            "      Epoch    GPU_mem   box_loss   seg_loss   obj_loss   cls_loss  Instances       Size\n",
            "        8/9      14.4G    0.02328    0.02201    0.01078          0         10        640: 100% 233/233 [04:42<00:00,  1.21s/it]\n",
            "                 Class     Images  Instances      Box(P          R      mAP50  mAP50-95)     Mask(P          R      mAP50  mAP50-95): 100% 7/7 [00:07<00:00,  1.04s/it]\n",
            "                   all        200        249      0.877      0.755      0.817      0.585       0.77      0.647      0.623      0.198\n",
            "\n",
            "      Epoch    GPU_mem   box_loss   seg_loss   obj_loss   cls_loss  Instances       Size\n",
            "        9/9      14.4G    0.02112    0.02112    0.01051          0         15        640: 100% 233/233 [04:44<00:00,  1.22s/it]\n",
            "                 Class     Images  Instances      Box(P          R      mAP50  mAP50-95)     Mask(P          R      mAP50  mAP50-95): 100% 7/7 [00:06<00:00,  1.13it/s]\n",
            "                   all        200        249      0.874      0.751      0.815      0.601      0.788      0.671      0.681      0.216\n",
            "\n",
            "10 epochs completed in 0.802 hours.\n",
            "/content/yolov7/seg/./utils/general.py:916: FutureWarning: You are using `torch.load` with `weights_only=False` (the current default value), which uses the default pickle module implicitly. It is possible to construct malicious pickle data which will execute arbitrary code during unpickling (See https://github.com/pytorch/pytorch/blob/main/SECURITY.md#untrusted-models for more details). In a future release, the default value for `weights_only` will be flipped to `True`. This limits the functions that could be executed during unpickling. Arbitrary objects will no longer be allowed to be loaded via this mode unless they are explicitly allowlisted by the user via `torch.serialization.add_safe_globals`. We recommend you start setting `weights_only=True` for any use case where you don't have full control of the loaded file. Please open an issue on GitHub for any issues related to this experimental feature.\n",
            "  x = torch.load(f, map_location=torch.device('cpu'))\n",
            "Optimizer stripped from runs/train-seg/custom5/weights/last.pt, 76.3MB\n",
            "Optimizer stripped from runs/train-seg/custom5/weights/best.pt, 76.3MB\n",
            "\n",
            "Validating runs/train-seg/custom5/weights/best.pt...\n",
            "/content/yolov7/seg/models/experimental.py:79: FutureWarning: You are using `torch.load` with `weights_only=False` (the current default value), which uses the default pickle module implicitly. It is possible to construct malicious pickle data which will execute arbitrary code during unpickling (See https://github.com/pytorch/pytorch/blob/main/SECURITY.md#untrusted-models for more details). In a future release, the default value for `weights_only` will be flipped to `True`. This limits the functions that could be executed during unpickling. Arbitrary objects will no longer be allowed to be loaded via this mode unless they are explicitly allowlisted by the user via `torch.serialization.add_safe_globals`. We recommend you start setting `weights_only=True` for any use case where you don't have full control of the loaded file. Please open an issue on GitHub for any issues related to this experimental feature.\n",
            "  ckpt = torch.load(attempt_download(w), map_location='cpu')  # load\n",
            "Fusing layers... \n",
            "Model summary: 325 layers, 37842476 parameters, 0 gradients, 141.9 GFLOPs\n",
            "                 Class     Images  Instances      Box(P          R      mAP50  mAP50-95)     Mask(P          R      mAP50  mAP50-95):  14% 1/7 [00:01<00:06,  1.04s/it]Exception in thread Thread-11 (plot_images_and_masks):\n",
            "Traceback (most recent call last):\n",
            "  File \"/usr/lib/python3.10/threading.py\", line 1016, in _bootstrap_inner\n",
            "    self.run()\n",
            "  File \"/usr/lib/python3.10/threading.py\", line 953, in run\n",
            "    self._target(*self._args, **self._kwargs)\n",
            "  File \"/content/yolov7/seg/./utils/segment/plots.py\", line 119, in plot_images_and_masks\n",
            "    annotator.box_label(box, label, color=color)\n",
            "  File \"/content/yolov7/seg/./utils/plots.py\", line 90, in box_label\n",
            "    w, h = self.font.getsize(label)  # text width, height\n",
            "AttributeError: 'FreeTypeFont' object has no attribute 'getsize'\n",
            "Exception in thread Thread-12 (plot_images_and_masks):\n",
            "Traceback (most recent call last):\n",
            "  File \"/usr/lib/python3.10/threading.py\", line 1016, in _bootstrap_inner\n",
            "    self.run()\n",
            "  File \"/usr/lib/python3.10/threading.py\", line 953, in run\n",
            "    self._target(*self._args, **self._kwargs)\n",
            "  File \"/content/yolov7/seg/./utils/segment/plots.py\", line 119, in plot_images_and_masks\n",
            "    annotator.box_label(box, label, color=color)\n",
            "  File \"/content/yolov7/seg/./utils/plots.py\", line 90, in box_label\n",
            "    w, h = self.font.getsize(label)  # text width, height\n",
            "AttributeError: 'FreeTypeFont' object has no attribute 'getsize'\n",
            "                 Class     Images  Instances      Box(P          R      mAP50  mAP50-95)     Mask(P          R      mAP50  mAP50-95):  29% 2/7 [00:02<00:06,  1.30s/it]Exception in thread Thread-13 (plot_images_and_masks):\n",
            "Traceback (most recent call last):\n",
            "  File \"/usr/lib/python3.10/threading.py\", line 1016, in _bootstrap_inner\n",
            "    self.run()\n",
            "  File \"/usr/lib/python3.10/threading.py\", line 953, in run\n",
            "    self._target(*self._args, **self._kwargs)\n",
            "  File \"/content/yolov7/seg/./utils/segment/plots.py\", line 119, in plot_images_and_masks\n",
            "    annotator.box_label(box, label, color=color)\n",
            "  File \"/content/yolov7/seg/./utils/plots.py\", line 90, in box_label\n",
            "    w, h = self.font.getsize(label)  # text width, height\n",
            "AttributeError: 'FreeTypeFont' object has no attribute 'getsize'\n",
            "Exception in thread Thread-14 (plot_images_and_masks):\n",
            "Traceback (most recent call last):\n",
            "  File \"/usr/lib/python3.10/threading.py\", line 1016, in _bootstrap_inner\n",
            "    self.run()\n",
            "  File \"/usr/lib/python3.10/threading.py\", line 953, in run\n",
            "    self._target(*self._args, **self._kwargs)\n",
            "  File \"/content/yolov7/seg/./utils/segment/plots.py\", line 119, in plot_images_and_masks\n",
            "    annotator.box_label(box, label, color=color)\n",
            "  File \"/content/yolov7/seg/./utils/plots.py\", line 90, in box_label\n",
            "    w, h = self.font.getsize(label)  # text width, height\n",
            "AttributeError: 'FreeTypeFont' object has no attribute 'getsize'\n",
            "                 Class     Images  Instances      Box(P          R      mAP50  mAP50-95)     Mask(P          R      mAP50  mAP50-95):  43% 3/7 [00:04<00:05,  1.40s/it]Exception in thread Thread-16 (plot_images_and_masks):\n",
            "Traceback (most recent call last):\n",
            "  File \"/usr/lib/python3.10/threading.py\", line 1016, in _bootstrap_inner\n",
            "    self.run()\n",
            "  File \"/usr/lib/python3.10/threading.py\", line 953, in run\n",
            "    self._target(*self._args, **self._kwargs)\n",
            "  File \"/content/yolov7/seg/./utils/segment/plots.py\", line 119, in plot_images_and_masks\n",
            "    annotator.box_label(box, label, color=color)\n",
            "  File \"/content/yolov7/seg/./utils/plots.py\", line 90, in box_label\n",
            "    w, h = self.font.getsize(label)  # text width, height\n",
            "AttributeError: 'FreeTypeFont' object has no attribute 'getsize'\n",
            "Exception in thread Thread-15 (plot_images_and_masks):\n",
            "Traceback (most recent call last):\n",
            "  File \"/usr/lib/python3.10/threading.py\", line 1016, in _bootstrap_inner\n",
            "    self.run()\n",
            "  File \"/usr/lib/python3.10/threading.py\", line 953, in run\n",
            "    self._target(*self._args, **self._kwargs)\n",
            "  File \"/content/yolov7/seg/./utils/segment/plots.py\", line 119, in plot_images_and_masks\n",
            "    annotator.box_label(box, label, color=color)\n",
            "  File \"/content/yolov7/seg/./utils/plots.py\", line 90, in box_label\n",
            "    w, h = self.font.getsize(label)  # text width, height\n",
            "AttributeError: 'FreeTypeFont' object has no attribute 'getsize'\n",
            "                 Class     Images  Instances      Box(P          R      mAP50  mAP50-95)     Mask(P          R      mAP50  mAP50-95): 100% 7/7 [00:08<00:00,  1.17s/it]\n",
            "                   all        200        249      0.874      0.751      0.815      0.601      0.788      0.671      0.681      0.216\n",
            "Results saved to \u001b[1mruns/train-seg/custom5\u001b[0m\n"
          ]
        }
      ],
      "source": [
        "%cd {HOME}/yolov7/seg\n",
        "!python segment/train.py --batch 16 \\\n",
        " --epochs 10 \\\n",
        " --data {dataset.location}/data.yaml \\\n",
        " --weights $WEIGHTS_PATH \\\n",
        " --device 0 \\\n",
        " --name custom"
      ]
    },
    {
      "cell_type": "code",
      "execution_count": null,
      "metadata": {
        "colab": {
          "base_uri": "https://localhost:8080/"
        },
        "id": "uFLkIGyLT_hP",
        "outputId": "18a20cf6-3dcc-497c-d326-c33936912354"
      },
      "outputs": [
        {
          "name": "stdout",
          "output_type": "stream",
          "text": [
            "/content/yolov7/seg\n",
            "YOLOv5 🚀 2024-9-24 Python-3.10.12 torch-2.4.1+cu121 CPU\n",
            "\n",
            "/content/yolov7/seg/models/experimental.py:79: FutureWarning: You are using `torch.load` with `weights_only=False` (the current default value), which uses the default pickle module implicitly. It is possible to construct malicious pickle data which will execute arbitrary code during unpickling (See https://github.com/pytorch/pytorch/blob/main/SECURITY.md#untrusted-models for more details). In a future release, the default value for `weights_only` will be flipped to `True`. This limits the functions that could be executed during unpickling. Arbitrary objects will no longer be allowed to be loaded via this mode unless they are explicitly allowlisted by the user via `torch.serialization.add_safe_globals`. We recommend you start setting `weights_only=True` for any use case where you don't have full control of the loaded file. Please open an issue on GitHub for any issues related to this experimental feature.\n",
            "  ckpt = torch.load(attempt_download(w), map_location='cpu')  # load\n",
            "Fusing layers... \n",
            "Model summary: 325 layers, 37842476 parameters, 0 gradients, 141.9 GFLOPs\n",
            "image 1/1 /content/yolov7/crack_img_2.jpeg: 448x640 2 cracks, Done. (3297.4ms)\n",
            "Results saved to \u001b[1mruns/predict-seg/exp3\u001b[0m\n"
          ]
        }
      ],
      "source": [
        "%cd {HOME}/yolov7/seg\n",
        "!python segment/predict.py \\\n",
        "--weights /content/best.pt\\\n",
        "--conf 0.25 \\\n",
        "--source /content/yolov7/crack_img_2.jpeg\n",
        "\n",
        "\n",
        "\n",
        "#In place of crack_img_2 you can take any example image.\n",
        "\n",
        "#I also uploaded the final weights of final model you can directly predict using them.\n",
        "\n",
        "#%cd {HOME}/yolov7/seg\n",
        "#!python segment/predict.py \\\n",
        "#--weights /content/best_new.pt\\\n",
        "#--conf 0.25 \\\n",
        "#--source /content/yolov7/crack_img_2.jpeg\n"
      ]
    },
    {
      "cell_type": "code",
      "execution_count": null,
      "metadata": {
        "colab": {
          "base_uri": "https://localhost:8080/"
        },
        "id": "g3XeqSZIUTmp",
        "outputId": "c190c9e2-a89d-4368-d665-4842c1b4f25d"
      },
      "outputs": [
        {
          "name": "stdout",
          "output_type": "stream",
          "text": [
            "Requirement already satisfied: opencv-python-headless in /usr/local/lib/python3.10/dist-packages (4.10.0.84)\n",
            "Requirement already satisfied: numpy in /usr/local/lib/python3.10/dist-packages (1.25.2)\n",
            "\u001b[33mWARNING: Running pip as the 'root' user can result in broken permissions and conflicting behaviour with the system package manager. It is recommended to use a virtual environment instead: https://pip.pypa.io/warnings/venv\u001b[0m\u001b[33m\n",
            "\u001b[0m"
          ]
        }
      ],
      "source": [
        "pip install opencv-python-headless numpy\n"
      ]
    },
    {
      "cell_type": "code",
      "execution_count": null,
      "metadata": {
        "colab": {
          "base_uri": "https://localhost:8080/"
        },
        "id": "F4sHjopvrNdH",
        "outputId": "9d70692e-8a42-4ec1-ce13-d40f143389e2"
      },
      "outputs": [
        {
          "data": {
            "text/plain": [
              "True"
            ]
          },
          "execution_count": 38,
          "metadata": {},
          "output_type": "execute_result"
        }
      ],
      "source": [
        "\n",
        "#Code for changing the red color segmented crack image to black color segmented crack image\n",
        "import cv2\n",
        "import numpy as np\n",
        "\n",
        "# Load the image\n",
        "image_path = '/content/yolov7/seg/runs/predict-seg/exp6/1675.rf.e3aa3f8d28d0247ef0284dd46dacc29f.jpg'\n",
        "image = cv2.imread(image_path)\n",
        "\n",
        "# Convert image to HSV color space\n",
        "hsv_image = cv2.cvtColor(image, cv2.COLOR_BGR2HSV)\n",
        "\n",
        "# Define the red color range in HSV\n",
        "# Adjust these ranges if needed\n",
        "lower_red1 = np.array([0, 70, 50])\n",
        "upper_red1 = np.array([10, 255, 255])\n",
        "lower_red2 = np.array([170, 70, 50])\n",
        "upper_red2 = np.array([180, 255, 255])\n",
        "\n",
        "# Create masks for red color\n",
        "mask1 = cv2.inRange(hsv_image, lower_red1, upper_red1)\n",
        "mask2 = cv2.inRange(hsv_image, lower_red2, upper_red2)\n",
        "red_mask = cv2.bitwise_or(mask1, mask2)\n",
        "\n",
        "# Optional: Smooth the mask to remove noise\n",
        "kernel = np.ones((3, 3), np.uint8)\n",
        "red_mask = cv2.morphologyEx(red_mask, cv2.MORPH_OPEN, kernel)\n",
        "red_mask = cv2.morphologyEx(red_mask, cv2.MORPH_CLOSE, kernel)\n",
        "\n",
        "# Create an inverse mask for red boundaries\n",
        "inverse_red_mask = cv2.bitwise_not(red_mask)\n",
        "\n",
        "# Remove the red boundaries\n",
        "image_no_boundaries = cv2.bitwise_and(image, image, mask=inverse_red_mask)\n",
        "\n",
        "# Optionally preserve the segmentation part by adding the segmented regions\n",
        "# Assuming the segmentation part is in a separate mask (segmented_mask)\n",
        "# segmented_mask = cv2.imread('path/to/segmentation_mask.png', cv2.IMREAD_GRAYSCALE)\n",
        "\n",
        "# Ensure segmented_mask has the same dimensions as the image\n",
        "# segmented_mask_resized = cv2.resize(segmented_mask, (image.shape[1], image.shape[0]))\n",
        "\n",
        "# Merge the segmented part back\n",
        "# final_image = cv2.bitwise_or(image_no_boundaries, cv2.bitwise_and(image, image, mask=segmented_mask_resized))\n",
        "\n",
        "# Show the result\n",
        "#cv2.imshow('Image without Red Boundaries', image_no_boundaries)\n",
        "\n",
        "# Save the result if needed\n",
        "cv2.imwrite('/content/exp_7.png', image_no_boundaries)\n"
      ]
    },
    {
      "cell_type": "code",
      "execution_count": null,
      "metadata": {
        "colab": {
          "base_uri": "https://localhost:8080/"
        },
        "id": "1G4uNJAWCe7e",
        "outputId": "f6cd4570-1b31-4ad3-b6e5-646b70550f5c"
      },
      "outputs": [
        {
          "name": "stdout",
          "output_type": "stream",
          "text": [
            "Number of black pixels: 3116\n"
          ]
        }
      ],
      "source": [
        "#final code pixels\n",
        "import cv2\n",
        "import numpy as np\n",
        "\n",
        "# Load the image\n",
        "image = cv2.imread('/content/exp_4.png', cv2.IMREAD_GRAYSCALE)\n",
        "\n",
        "# Define the black color threshold\n",
        "# Here, 0 is considered pure black; adjust the threshold if needed\n",
        "threshold_value = 1  # Consider pixels with a value < 1 as black\n",
        "\n",
        "# Create a binary mask where black pixels are 1, and others are 0\n",
        "_, black_mask = cv2.threshold(image, threshold_value, 1, cv2.THRESH_BINARY_INV)\n",
        "\n",
        "# Count the black pixels\n",
        "num_black_pixels = np.sum(black_mask)\n",
        "print(f\"Number of black pixels: {num_black_pixels}\")\n"
      ]
    },
    {
      "cell_type": "code",
      "execution_count": null,
      "metadata": {
        "colab": {
          "base_uri": "https://localhost:8080/"
        },
        "id": "i7zV7FyxcRxA",
        "outputId": "1cf5f021-9612-40e3-a5ed-d9ab76ade681"
      },
      "outputs": [
        {
          "name": "stdout",
          "output_type": "stream",
          "text": [
            "Image processing completed. The new image is saved at: output_image.png\n"
          ]
        }
      ],
      "source": [
        "\n",
        "#final code for black for black and other all white\n",
        "from PIL import Image\n",
        "\n",
        "# Load the image\n",
        "image_path = '/content/exp_4.png'  # Replace with your image path\n",
        "image = Image.open(image_path)\n",
        "\n",
        "# Convert image to RGB mode if it's not already\n",
        "image = image.convert('RGB')\n",
        "\n",
        "# Create a new image with the same size and white background\n",
        "new_image = Image.new('RGB', image.size, (255, 255, 255))\n",
        "\n",
        "# Get pixel data\n",
        "pixels = image.load()\n",
        "new_pixels = new_image.load()\n",
        "\n",
        "# Iterate through each pixel\n",
        "for y in range(image.size[1]):\n",
        "    for x in range(image.size[0]):\n",
        "        if pixels[x, y] == (0, 0, 0):\n",
        "            new_pixels[x, y] = (0, 0, 0)  # Set to black\n",
        "        else:\n",
        "            new_pixels[x, y] = (255, 255, 255)  # Set to white\n",
        "\n",
        "# Save the new image\n",
        "new_image_path = 'output_image.png'  # Replace with desired output path\n",
        "new_image.save(new_image_path)\n",
        "\n",
        "print(\"Image processing completed. The new image is saved at:\", new_image_path)\n"
      ]
    },
    {
      "cell_type": "code",
      "execution_count": null,
      "metadata": {
        "colab": {
          "base_uri": "https://localhost:8080/",
          "height": 1000
        },
        "id": "jIaZT3P7kZw9",
        "outputId": "d197a485-ee84-4617-d12c-4bf750661601"
      },
      "outputs": [
        {
          "data": {
            "image/png": "[encoded data removed]",
            "text/plain": [
              "<Figure size 640x480 with 1 Axes>"
            ]
          },
          "metadata": {},
          "output_type": "display_data"
        },
        {
          "name": "stdout",
          "output_type": "stream",
          "text": [
            "Crack thickness map in pixels: [[0. 0. 0. ... 0. 0. 0.]\n",
            " [0. 0. 0. ... 0. 0. 0.]\n",
            " [0. 0. 0. ... 0. 0. 0.]\n",
            " ...\n",
            " [0. 0. 0. ... 0. 0. 0.]\n",
            " [0. 0. 0. ... 0. 0. 0.]\n",
            " [0. 0. 0. ... 0. 0. 0.]]\n"
          ]
        },
        {
          "data": {
            "image/png": "[encoded data removed]",
            "text/plain": [
              "<Figure size 640x480 with 2 Axes>"
            ]
          },
          "metadata": {},
          "output_type": "display_data"
        }
      ],
      "source": [
        "#final code for width\n",
        "\n",
        "import cv2\n",
        "import numpy as np\n",
        "from skimage.morphology import skeletonize\n",
        "from scipy.ndimage import distance_transform_edt\n",
        "import matplotlib.pyplot as plt\n",
        "\n",
        "def extract_centerline(binary_image):\n",
        "\n",
        "    binary_image = binary_image / 255\n",
        "    centerline = skeletonize(binary_image)\n",
        "\n",
        "\n",
        "    plt.imshow(centerline, cmap='gray')\n",
        "    plt.title('Centerline')\n",
        "    plt.show()\n",
        "\n",
        "\n",
        "    cv2.imwrite('centerline_image.png', centerline.astype(np.uint8) * 255)\n",
        "\n",
        "    return centerline\n",
        "\n",
        "def find_tangential_orientation(centerline):\n",
        "\n",
        "    sobelx = cv2.Sobel(centerline.astype(np.float32), cv2.CV_64F, 1, 0, ksize=5)\n",
        "    sobely = cv2.Sobel(centerline.astype(np.float32), cv2.CV_64F, 0, 1, ksize=5)\n",
        "    orientations = np.arctan2(sobely, sobelx)\n",
        "    return orientations\n",
        "\n",
        "def estimate_thickness_orientation(tangential_orientation):\n",
        "\n",
        "    return tangential_orientation + np.pi / 2\n",
        "\n",
        "def compute_thickness_map(centerline, binary_image, tangential_orientation):\n",
        "\n",
        "\n",
        "    thickness_map = np.zeros_like(centerline, dtype=np.float32)\n",
        "\n",
        "    thickness_orientation = estimate_thickness_orientation(tangential_orientation)\n",
        "\n",
        "    binary_image = binary_image // 255\n",
        "\n",
        "    rows, cols = np.nonzero(centerline)\n",
        "    for r, c in zip(rows, cols):\n",
        "        angle = thickness_orientation[r, c]\n",
        "        dr, dc = np.sin(angle), np.cos(angle)\n",
        "        thickness_positive = 0\n",
        "        thickness_negative = 0\n",
        "\n",
        "        # Trace in the positive direction along the thickness orientation\n",
        "        step = 0\n",
        "        while True:\n",
        "            rr = int(r + step * dr)\n",
        "            cc = int(c + step * dc)\n",
        "            if rr < 0 or rr >= binary_image.shape[0] or cc < 0 or cc >= binary_image.shape[1]:\n",
        "                break\n",
        "            if binary_image[rr, cc] == 0:  # Hit a boundary\n",
        "                break\n",
        "            thickness_positive = step\n",
        "            step += 1\n",
        "\n",
        "        # Trace in the negative direction along the thickness orientation\n",
        "        step = 0\n",
        "        while True:\n",
        "            rr = int(r - step * dr)\n",
        "            cc = int(c - step * dc)\n",
        "            if rr < 0 or rr >= binary_image.shape[0] or cc < 0 or cc >= binary_image.shape[1]:\n",
        "                break\n",
        "            if binary_image[rr, cc] == 0:  # Hit a boundary\n",
        "                break\n",
        "            thickness_negative = step\n",
        "            step += 1\n",
        "\n",
        "\n",
        "        thickness_map[r, c] = thickness_positive + thickness_negative\n",
        "\n",
        "    return thickness_map\n",
        "\n",
        "\n",
        "\n",
        "\n",
        "def average_thickness(thickness_map, neighborhood_size=5):\n",
        "\n",
        "    kernel = np.ones((neighborhood_size, neighborhood_size)) / (neighborhood_size ** 2)\n",
        "    return cv2.filter2D(thickness_map, -1, kernel)\n",
        "\n",
        "def crack_quantification(crack_image):\n",
        "\n",
        "\n",
        "    binary_image = cv2.threshold(crack_image, 127, 255, cv2.THRESH_BINARY_INV)[1]\n",
        "    centerline = extract_centerline(binary_image)\n",
        "    tangential_orientation = find_tangential_orientation(centerline)\n",
        "    thickness_orientation = estimate_thickness_orientation(tangential_orientation)\n",
        "    thickness_map = compute_thickness_map(centerline, binary_image,thickness_orientation)\n",
        "    averaged_thickness = average_thickness(thickness_map)\n",
        "\n",
        "    return averaged_thickness\n",
        "\n",
        "\n",
        "crack_image = cv2.imread('/content/yolov7/seg/output_image.png', cv2.IMREAD_GRAYSCALE)\n",
        "thickness_map = crack_quantification(crack_image)\n",
        "print(\"Crack thickness map in pixels:\", thickness_map)\n",
        "\n",
        "\n",
        "plt.imshow(thickness_map, cmap='jet')\n",
        "plt.colorbar(label='Thickness (pixels)')\n",
        "plt.title('Crack Thickness Map')\n",
        "plt.show()\n"
      ]
    },
    {
      "cell_type": "code",
      "execution_count": null,
      "metadata": {
        "colab": {
          "base_uri": "https://localhost:8080/",
          "height": 470
        },
        "id": "bzDfKoEweADX",
        "outputId": "ab61da00-840f-4aa4-e15d-57a0583326df"
      },
      "outputs": [
        {
          "data": {
            "image/png": "[encoded data removed]",
            "text/plain": [
              "<Figure size 640x480 with 1 Axes>"
            ]
          },
          "metadata": {},
          "output_type": "display_data"
        },
        {
          "name": "stdout",
          "output_type": "stream",
          "text": [
            "Crack Length: 36645.32884905016 pixels\n"
          ]
        }
      ],
      "source": [
        "#final code for length\n",
        "import cv2\n",
        "import numpy as np\n",
        "from skimage.morphology import skeletonize\n",
        "from scipy.spatial.distance import euclidean\n",
        "import matplotlib.pyplot as plt\n",
        "\n",
        "def extract_centerline(binary_image):\n",
        "    \"\"\"Extract the centerline using morphological thinning (skeletonization).\"\"\"\n",
        "    binary_image = binary_image / 255  # Normalize the binary image to 0s and 1s\n",
        "    centerline = skeletonize(binary_image)\n",
        "\n",
        "    # Display the centerline image\n",
        "    plt.imshow(centerline, cmap='gray')\n",
        "    plt.title('Centerline')\n",
        "    plt.show()\n",
        "\n",
        "    return centerline\n",
        "\n",
        "def calculate_crack_length(centerline):\n",
        "    \"\"\"Calculate the length of the crack based on the centerline.\"\"\"\n",
        "    # Get the coordinates of non-zero (centerline) points\n",
        "    points = np.column_stack(np.nonzero(centerline))\n",
        "\n",
        "    # Initialize crack length\n",
        "    crack_length = 0.0\n",
        "\n",
        "    # Calculate Euclidean distance between consecutive points\n",
        "    for i in range(1, len(points)):\n",
        "        crack_length += euclidean(points[i-1], points[i])\n",
        "\n",
        "    return crack_length\n",
        "\n",
        "def crack_length_quantification(crack_image):\n",
        "    \"\"\"Full quantification process for crack length.\"\"\"\n",
        "    # Convert to binary (assuming cracks are black on white background)\n",
        "    binary_image = cv2.threshold(crack_image, 127, 255, cv2.THRESH_BINARY_INV)[1]\n",
        "\n",
        "    # Step 1: Extract the centerline\n",
        "    centerline = extract_centerline(binary_image)\n",
        "\n",
        "    # Step 2: Calculate the crack length\n",
        "    crack_length = calculate_crack_length(centerline)\n",
        "\n",
        "    return crack_length\n",
        "\n",
        "# Example usage\n",
        "crack_image = cv2.imread('/content/yolov7/seg/output_image.png', cv2.IMREAD_GRAYSCALE)\n",
        "crack_length = crack_length_quantification(crack_image)\n",
        "print(f\"Crack Length: {crack_length} pixels\")\n"
      ]
    },
    {
      "cell_type": "code",
      "execution_count": null,
      "metadata": {
        "id": "l1aYy60toz0C"
      },
      "outputs": [],
      "source": []
    }
  ],
  "metadata": {
    "accelerator": "GPU",
    "colab": {
      "gpuType": "T4",
      "provenance": []
    },
    "kernelspec": {
      "display_name": "Python 3",
      "name": "python3"
    },
    "language_info": {
      "name": "python"
    }
  },
  "nbformat": 4,
  "nbformat_minor": 0
}
